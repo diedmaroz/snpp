{
 "cells": [
  {
   "cell_type": "code",
   "execution_count": null,
   "metadata": {
    "collapsed": false
   },
   "outputs": [],
   "source": [
    "import networkx as nx\n",
    "import numpy as np\n",
    "import _pickle as pkl\n",
    "\n",
    "from snpp.cores.joint_part_pred import iterative_approach\n",
    "from snpp.cores.max_balance import faster_greedy\n",
    "from snpp.cores.lowrank import partition_graph, alq_spark, predict_signs\n",
    "from snpp.cores.budget_allocation import exponential_budget, \\\n",
    "    constant_then_exponential_budget, \\\n",
    "    linear_budget, \\\n",
    "    constant_budget\n",
    "from snpp.cores.louvain import best_partition\n",
    "from snpp.cores.triangle import build_edge2edges\n",
    "from snpp.utils.signed_graph import fill_diagonal\n",
    "from snpp.utils.edge_filter import filter_by_min_triangle_count\n",
    "from snpp.utils.data import load_train_test_data"
   ]
  },
  {
   "cell_type": "code",
   "execution_count": null,
   "metadata": {
    "collapsed": true
   },
   "outputs": [],
   "source": [
    "dataset = 'slashdot'\n",
    "lambda_ = 0.1\n",
    "k = 40\n",
    "max_iter = 20\n",
    "random_seed = 123456\n",
    "\n",
    "recache_input = False\n",
    "\n",
    "min_tri_count = 10"
   ]
  },
  {
   "cell_type": "code",
   "execution_count": null,
   "metadata": {
    "collapsed": false,
    "scrolled": true
   },
   "outputs": [],
   "source": [
    "g, test_m = load_train_test_data(dataset, recache_input)\n",
    "\n",
    "test_idx_sorted = list(map(lambda e: tuple(sorted(e)), zip(*test_m.nonzero())))                                                                                                                                 "
   ]
  },
  {
   "cell_type": "code",
   "execution_count": null,
   "metadata": {
    "collapsed": false
   },
   "outputs": [],
   "source": [
    "print(g.number_of_edges())\n",
    "print(len(test_idx_sorted))"
   ]
  },
  {
   "cell_type": "code",
   "execution_count": null,
   "metadata": {
    "collapsed": false
   },
   "outputs": [],
   "source": [
    "# make prediction based on undirectionality                                                                                            \n",
    "ud_preds = []\n",
    "ud_truth = []\n",
    "for i, j in test_idx_sorted:\n",
    "    if g.has_edge(i, j):\n",
    "        ud_preds.append((i, j, g[i][j]['sign']))\n",
    "        s = test_m[i, j]\n",
    "        if s == 0:\n",
    "            s = test_m[j, i]\n",
    "        ud_truth.append((i, j, s))\n",
    "\n",
    "print('made predictions on {} edges based on undirectionality'.format(len(ud_preds)))\n",
    "print(\"=> accuracy is {}\".format(\n",
    "        len(set(ud_truth).intersection(set(ud_preds))) / len(ud_truth)))"
   ]
  },
  {
   "cell_type": "code",
   "execution_count": null,
   "metadata": {
    "collapsed": false,
    "scrolled": false
   },
   "outputs": [],
   "source": [
    "print('removing already predicted entries')\n",
    "idx_i, idx_j, data = map(list, zip(*ud_preds))\n",
    "targets = set(test_idx_sorted) - set(zip(idx_i, idx_j))\n",
    "targets = set([tuple(sorted(e)) for e in targets])  # sort each edge so that i <= j                                                    \n",
    "print('=> remaining #targets {}'.format(len(targets)))\n",
    "\n",
    "print('filtering edges with at least {} triangles'.format(min_tri_count))\n",
    "filtered_targets = set(filter_by_min_triangle_count(g, targets, min_tri_count))\n",
    "print('=> remaining #targets {}'.format(len(filtered_targets)))"
   ]
  },
  {
   "cell_type": "code",
   "execution_count": null,
   "metadata": {
    "collapsed": false,
    "scrolled": true
   },
   "outputs": [],
   "source": [
    "# %%timeit -r 1 -n 1\n",
    "# start the iterative approach\n",
    "part, iter_preds, status = iterative_approach(\n",
    "    g,\n",
    "    T=filtered_targets,\n",
    "    k=k,\n",
    "    graph_partition_f=partition_graph,\n",
    "    graph_partition_kwargs=dict(sc=sc,\n",
    "                                lambda_=lambda_, iterations=max_iter,\n",
    "                                seed=random_seed),\n",
    "    budget_allocation_f=constant_budget,\n",
    "    budget_allocation_kwargs=dict(const=200),\n",
    "    solve_maxbalance_f=faster_greedy,\n",
    "    solve_maxbalance_kwargs={'edge2edges': build_edge2edges(g.copy(),\n",
    "                                                            targets)},\n",
    "    truth=set([(i, j, (test_m[i, j]\n",
    "                       if test_m[i, j] != 0\n",
    "                       else test_m[j, i]))\n",
    "               for i, j in filtered_targets]),\n",
    "    perform_last_partition=False)\n",
    "\n",
    "print('dumping result...')\n",
    "pkl.dump(status, open('data/{}/status.pkl'.format(dataset), 'wb'))\n",
    "\n",
    "print('made prediction on {} edges using iterative'.format(status.pred_cnt_list[-1]))\n",
    "print('=> accuracy is {}'.format(status.acc_list[-1]))"
   ]
  },
  {
   "cell_type": "code",
   "execution_count": null,
   "metadata": {
    "collapsed": false
   },
   "outputs": [],
   "source": [
    "print(g.number_of_edges())"
   ]
  },
  {
   "cell_type": "code",
   "execution_count": null,
   "metadata": {
    "collapsed": false
   },
   "outputs": [],
   "source": [
    "# %%timeit -r 1 -n 1\n",
    "A = nx.to_scipy_sparse_matrix(g, nodelist=g.nodes(),\n",
    "                              weight='sign', format='csr')\n",
    "A = fill_diagonal(A)\n",
    "# assert (A.nnz - A.shape[0]) == len(targets)\n",
    "\n",
    "X, Y = alq_spark(A, k=k, sc=sc,\n",
    "                 lambda_=lambda_, iterations=max_iter,\n",
    "                 seed=random_seed)"
   ]
  },
  {
   "cell_type": "code",
   "execution_count": null,
   "metadata": {
    "collapsed": false
   },
   "outputs": [],
   "source": [
    "remaining_targets = targets - filtered_targets\n",
    "print('predicting using lowrank method on {} edges'.format(len(remaining_targets)))\n",
    "lr_preds = predict_signs(X, Y, remaining_targets, sc)"
   ]
  },
  {
   "cell_type": "code",
   "execution_count": null,
   "metadata": {
    "collapsed": true
   },
   "outputs": [],
   "source": [
    "lr_preds, iter_preds = set(lr_preds), set(iter_preds)\n",
    "assert len(lr_preds.intersection(iter_preds)) == 0"
   ]
  },
  {
   "cell_type": "code",
   "execution_count": null,
   "metadata": {
    "collapsed": true
   },
   "outputs": [],
   "source": [
    "def nz_value(m, i, j):\n",
    "    return (m[i, j] if m[i, j] != 0 else m[j, i])"
   ]
  },
  {
   "cell_type": "code",
   "execution_count": null,
   "metadata": {
    "collapsed": false,
    "scrolled": false
   },
   "outputs": [],
   "source": [
    "truth = set((i, j, nz_value(test_m, i, j)) for i, j in test_idx_sorted)\n",
    "preds = lr_preds | iter_preds | set(ud_preds)\n",
    "assert len(preds) == len(truth)\n",
    "print('=> undirectionality accuracy {} ({})'.format(len(truth.intersection(set(ud_preds))) / len(ud_preds), len(ud_preds)))\n",
    "print('=> iteractive accuracy {} ({})'.format(len(truth.intersection(iter_preds)) / len(iter_preds), len(iter_preds)))\n",
    "print('=> lowrank accuracy {} ({})'.format(len(truth.intersection(lr_preds)) / len(lr_preds), len(lr_preds)))\n",
    "print('=> final accuracy {}'.format(len(truth.intersection(preds)) / len(truth)))"
   ]
  }
 ],
 "metadata": {
  "kernelspec": {
   "display_name": "Python 3",
   "language": "python",
   "name": "python3"
  },
  "language_info": {
   "codemirror_mode": {
    "name": "ipython",
    "version": 3
   },
   "file_extension": ".py",
   "mimetype": "text/x-python",
   "name": "python",
   "nbconvert_exporter": "python",
   "pygments_lexer": "ipython3",
   "version": "3.5.2"
  }
 },
 "nbformat": 4,
 "nbformat_minor": 0
}
