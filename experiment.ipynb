{
 "cells": [
  {
   "cell_type": "code",
   "execution_count": 11,
   "metadata": {
    "collapsed": false
   },
   "outputs": [],
   "source": [
    "import networkx as nx\n",
    "import numpy as np\n",
    "import random\n",
    "import _pickle as pkl\n",
    "\n",
    "from snpp.cores.joint_part_pred import iterative_approach\n",
    "from snpp.cores.max_balance import faster_greedy\n",
    "from snpp.cores.lowrank import partition_graph, alq_spark, predict_signs\n",
    "from snpp.cores.budget_allocation import exponential_budget, \\\n",
    "    constant_then_exponential_budget, \\\n",
    "    linear_budget, \\\n",
    "    constant_budget\n",
    "from snpp.cores.louvain import best_partition\n",
    "from snpp.cores.triangle import build_edge2edges\n",
    "from snpp.utils.signed_graph import fill_diagonal\n",
    "from snpp.utils.edge_filter import filter_by_min_triangle_count\n",
    "from snpp.utils.data import load_train_test_data\n",
    "\n",
    "from snpp.utils.spark import sc"
   ]
  },
  {
   "cell_type": "code",
   "execution_count": 12,
   "metadata": {
    "collapsed": false
   },
   "outputs": [],
   "source": [
    "dataset = 'slashdot'\n",
    "lambda_ = 0.1\n",
    "k = 40\n",
    "max_iter = 20\n",
    "random_seed = 123456\n",
    "\n",
    "recache_input = False\n",
    "\n",
    "min_tri_count = 20\n",
    "\n",
    "random.seed(random_seed)\n",
    "np.random.seed(random_seed)"
   ]
  },
  {
   "cell_type": "code",
   "execution_count": 13,
   "metadata": {
    "collapsed": false,
    "scrolled": true
   },
   "outputs": [
    {
     "name": "stdout",
     "output_type": "stream",
     "text": [
      "loading sparse matrix from data/slashdot.npz\n",
      "splitting train and test...\n"
     ]
    },
    {
     "name": "stderr",
     "output_type": "stream",
     "text": [
      "1044it [00:00, 3465.57it/s]"
     ]
    },
    {
     "name": "stdout",
     "output_type": "stream",
     "text": [
      "converting to nx.Graph\n",
      "building Graph\n"
     ]
    },
    {
     "name": "stderr",
     "output_type": "stream",
     "text": [
      "464917it [01:01, 7584.11it/s]\n"
     ]
    },
    {
     "name": "stdout",
     "output_type": "stream",
     "text": [
      "saving training graph and test data...\n"
     ]
    }
   ],
   "source": [
    "g, test_m = load_train_test_data(dataset, recache_input)\n",
    "\n",
    "test_idx_sorted = list(map(lambda e: tuple(sorted(e)), zip(*test_m.nonzero())))\n",
    "test_idx = list(zip(*test_m.nonzero()))"
   ]
  },
  {
   "cell_type": "code",
   "execution_count": 14,
   "metadata": {
    "collapsed": false
   },
   "outputs": [
    {
     "name": "stdout",
     "output_type": "stream",
     "text": [
      "426039\n",
      "51658\n"
     ]
    }
   ],
   "source": [
    "print(g.number_of_edges())\n",
    "print(len(test_idx_sorted))"
   ]
  },
  {
   "cell_type": "code",
   "execution_count": 15,
   "metadata": {
    "collapsed": false
   },
   "outputs": [],
   "source": [
    "# make prediction based on undirectionality\n",
    "if False:\n",
    "    # disabled for now\n",
    "    ud_preds = []\n",
    "    ud_truth = []\n",
    "    for i, j in test_idx_sorted:\n",
    "        if g.has_edge(i, j):\n",
    "            ud_preds.append((i, j, g[i][j]['sign']))\n",
    "            s = test_m[i, j]\n",
    "            if s == 0:\n",
    "                s = test_m[j, i]\n",
    "            ud_truth.append((i, j, s))\n",
    "\n",
    "    print('made predictions on {} edges based on undirectionality'.format(len(ud_preds)))\n",
    "    print(\"=> accuracy is {}\".format(\n",
    "            len(set(ud_truth).intersection(set(ud_preds))) / len(ud_truth)))"
   ]
  },
  {
   "cell_type": "code",
   "execution_count": 18,
   "metadata": {
    "collapsed": false,
    "scrolled": false
   },
   "outputs": [
    {
     "name": "stdout",
     "output_type": "stream",
     "text": [
      "filtering edges with at least 20 triangles\n",
      "=> remaining #targets 2566\n"
     ]
    }
   ],
   "source": [
    "targets = set(test_idx_sorted)\n",
    "if False:\n",
    "    print('removing already predicted entries')\n",
    "    idx_i, idx_j, data = map(list, zip(*ud_preds))\n",
    "    targets -= set(zip(idx_i, idx_j))\n",
    "    targets = set([tuple(sorted(e)) for e in targets])  # sort each edge so that i <= j                                                    \n",
    "    print('=> remaining #targets {}'.format(len(targets)))\n",
    "\n",
    "print('filtering edges with at least {} triangles'.format(min_tri_count))\n",
    "filtered_targets = set(filter_by_min_triangle_count(g, targets, min_tri_count))\n",
    "print('=> remaining #targets {}'.format(len(filtered_targets)))"
   ]
  },
  {
   "cell_type": "code",
   "execution_count": 17,
   "metadata": {
    "collapsed": false,
    "scrolled": true
   },
   "outputs": [
    {
     "name": "stderr",
     "output_type": "stream",
     "text": [
      "  7%|▋         | 3621/51658 [00:00<00:02, 17314.79it/s]"
     ]
    },
    {
     "name": "stdout",
     "output_type": "stream",
     "text": [
      "build edge2edges\n"
     ]
    },
    {
     "name": "stderr",
     "output_type": "stream",
     "text": [
      "100%|██████████| 51658/51658 [00:02<00:00, 19296.47it/s]\n"
     ]
    },
    {
     "ename": "AssertionError",
     "evalue": "",
     "output_type": "error",
     "traceback": [
      "\u001b[0;31m---------------------------------------------------------------------------\u001b[0m",
      "\u001b[0;31mAssertionError\u001b[0m                            Traceback (most recent call last)",
      "\u001b[0;32m<ipython-input-17-3d9e21c8f654>\u001b[0m in \u001b[0;36m<module>\u001b[0;34m()\u001b[0m\n\u001b[1;32m     18\u001b[0m                        else test_m[j, i]))\n\u001b[1;32m     19\u001b[0m                for i, j in filtered_targets]),\n\u001b[0;32m---> 20\u001b[0;31m     perform_last_partition=False)\n\u001b[0m\u001b[1;32m     21\u001b[0m \u001b[0;34m\u001b[0m\u001b[0m\n\u001b[1;32m     22\u001b[0m \u001b[0mprint\u001b[0m\u001b[0;34m(\u001b[0m\u001b[0;34m'dumping result...'\u001b[0m\u001b[0;34m)\u001b[0m\u001b[0;34m\u001b[0m\u001b[0m\n",
      "\u001b[0;32m/home/cloud-user/code/snpp/snpp/cores/joint_part_pred.py\u001b[0m in \u001b[0;36miterative_approach\u001b[0;34m(g, T, k, graph_partition_f, budget_allocation_f, solve_maxbalance_f, graph_partition_kwargs, budget_allocation_kwargs, solve_maxbalance_kwargs, truth, perform_last_partition)\u001b[0m\n\u001b[1;32m     45\u001b[0m     \u001b[0;31m# data format checking\u001b[0m\u001b[0;34m\u001b[0m\u001b[0;34m\u001b[0m\u001b[0m\n\u001b[1;32m     46\u001b[0m     \u001b[0;32mfor\u001b[0m \u001b[0mi\u001b[0m\u001b[0;34m,\u001b[0m \u001b[0mj\u001b[0m \u001b[0;32min\u001b[0m \u001b[0mT\u001b[0m\u001b[0;34m:\u001b[0m\u001b[0;34m\u001b[0m\u001b[0m\n\u001b[0;32m---> 47\u001b[0;31m         \u001b[0;32massert\u001b[0m \u001b[0mi\u001b[0m \u001b[0;34m<=\u001b[0m \u001b[0mj\u001b[0m\u001b[0;34m\u001b[0m\u001b[0m\n\u001b[0m\u001b[1;32m     48\u001b[0m \u001b[0;34m\u001b[0m\u001b[0m\n\u001b[1;32m     49\u001b[0m     \u001b[0;32mif\u001b[0m \u001b[0mtruth\u001b[0m\u001b[0;34m:\u001b[0m\u001b[0;34m\u001b[0m\u001b[0m\n",
      "\u001b[0;31mAssertionError\u001b[0m: "
     ]
    }
   ],
   "source": [
    "# %%timeit -r 1 -n 1\n",
    "# start the iterative approach\n",
    "part, iter_preds, status = iterative_approach(\n",
    "    g,\n",
    "    T=filtered_targets,\n",
    "    k=k,\n",
    "    graph_partition_f=partition_graph,\n",
    "    graph_partition_kwargs=dict(sc=sc,\n",
    "                                lambda_=lambda_, iterations=max_iter,\n",
    "                                seed=random_seed),\n",
    "    budget_allocation_f=constant_budget,\n",
    "    budget_allocation_kwargs=dict(const=200),\n",
    "    solve_maxbalance_f=faster_greedy,\n",
    "    solve_maxbalance_kwargs={'edge2edges': build_edge2edges(g.copy(),\n",
    "                                                            targets)},\n",
    "    truth=set([(i, j, (test_m[i, j]\n",
    "                       if test_m[i, j] != 0\n",
    "                       else test_m[j, i]))\n",
    "               for i, j in filtered_targets]),\n",
    "    perform_last_partition=False)\n",
    "\n",
    "print('dumping result...')\n",
    "pkl.dump(status, open('data/{}/status.pkl'.format(dataset), 'wb'))\n",
    "\n",
    "print('made prediction on {} edges using iterative'.format(status.pred_cnt_list[-1]))\n",
    "print('=> accuracy is {}'.format(status.acc_list[-1]))"
   ]
  },
  {
   "cell_type": "code",
   "execution_count": null,
   "metadata": {
    "collapsed": false
   },
   "outputs": [],
   "source": [
    "print(g.number_of_edges())"
   ]
  },
  {
   "cell_type": "code",
   "execution_count": null,
   "metadata": {
    "collapsed": false
   },
   "outputs": [],
   "source": [
    "# %%timeit -r 1 -n 1\n",
    "A = nx.to_scipy_sparse_matrix(g, nodelist=g.nodes(),\n",
    "                              weight='sign', format='csr')\n",
    "A = fill_diagonal(A)\n",
    "# assert (A.nnz - A.shape[0]) == len(targets)\n",
    "\n",
    "X, Y = alq_spark(A, k=k, sc=sc,\n",
    "                 lambda_=lambda_, iterations=max_iter,\n",
    "                 seed=random_seed)"
   ]
  },
  {
   "cell_type": "code",
   "execution_count": null,
   "metadata": {
    "collapsed": false
   },
   "outputs": [],
   "source": [
    "remaining_targets = targets - filtered_targets\n",
    "print('predicting using lowrank method on {} edges'.format(len(remaining_targets)))\n",
    "lr_preds = predict_signs(X, Y, remaining_targets, sc)"
   ]
  },
  {
   "cell_type": "code",
   "execution_count": null,
   "metadata": {
    "collapsed": true
   },
   "outputs": [],
   "source": [
    "lr_preds, iter_preds = set(lr_preds), set(iter_preds)\n",
    "assert len(lr_preds.intersection(iter_preds)) == 0"
   ]
  },
  {
   "cell_type": "code",
   "execution_count": null,
   "metadata": {
    "collapsed": true
   },
   "outputs": [],
   "source": [
    "def nz_value(m, i, j):\n",
    "    return (m[i, j] if m[i, j] != 0 else m[j, i])"
   ]
  },
  {
   "cell_type": "code",
   "execution_count": null,
   "metadata": {
    "collapsed": false,
    "scrolled": false
   },
   "outputs": [],
   "source": [
    "truth = set((i, j, nz_value(test_m, i, j)) for i, j in test_idx_sorted)\n",
    "preds = lr_preds | iter_preds | set(ud_preds)\n",
    "assert len(preds) == len(truth)\n",
    "print('=> undirectionality accuracy {} ({})'.format(len(truth.intersection(set(ud_preds))) / len(ud_preds), len(ud_preds)))\n",
    "print('=> iteractive accuracy {} ({})'.format(len(truth.intersection(iter_preds)) / len(iter_preds), len(iter_preds)))\n",
    "print('=> lowrank accuracy {} ({})'.format(len(truth.intersection(lr_preds)) / len(lr_preds), len(lr_preds)))\n",
    "print('=> final accuracy {}'.format(len(truth.intersection(preds)) / len(truth)))"
   ]
  }
 ],
 "metadata": {
  "kernelspec": {
   "display_name": "Python 3",
   "language": "python",
   "name": "python3"
  },
  "language_info": {
   "codemirror_mode": {
    "name": "ipython",
    "version": 3
   },
   "file_extension": ".py",
   "mimetype": "text/x-python",
   "name": "python",
   "nbconvert_exporter": "python",
   "pygments_lexer": "ipython3",
   "version": "3.5.2"
  }
 },
 "nbformat": 4,
 "nbformat_minor": 0
}
