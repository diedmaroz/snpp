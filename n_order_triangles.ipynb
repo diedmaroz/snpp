{
 "cells": [
  {
   "cell_type": "code",
   "execution_count": 6,
   "metadata": {
    "collapsed": false
   },
   "outputs": [],
   "source": [
    "from tqdm import tqdm\n",
    "import itertools\n",
    "import numpy as np\n",
    "from snpp.utils.matrix import load_sparse_csr, \\\n",
    "    split_train_test\n",
    "from snpp.utils.signed_graph import matrix2graph\n",
    "\n",
    "\n",
    "dataset = 'slashdot'\n",
    "raw_mat_path = 'data/{}.npz'.format(dataset)\n",
    "random_seed = 123456"
   ]
  },
  {
   "cell_type": "code",
   "execution_count": 2,
   "metadata": {
    "collapsed": false
   },
   "outputs": [
    {
     "name": "stdout",
     "output_type": "stream",
     "text": [
      "split_train_test\n"
     ]
    },
    {
     "name": "stderr",
     "output_type": "stream",
     "text": [
      "708it [00:00, 7070.57it/s]"
     ]
    },
    {
     "name": "stdout",
     "output_type": "stream",
     "text": [
      "building MultiGraph\n"
     ]
    },
    {
     "name": "stderr",
     "output_type": "stream",
     "text": [
      "516575it [01:26, 5950.18it/s]\n"
     ]
    }
   ],
   "source": [
    "m = load_sparse_csr(raw_mat_path)\n",
    "\n",
    "print('split_train_test')\n",
    "train_m, test_m = split_train_test(\n",
    "    m,\n",
    "    weights=[0.9, 0.1])\n",
    "\n",
    "test_entries = set(tuple(sorted((i, j)))\n",
    "                   for i, j in zip(*test_m.nonzero()))\n",
    "g = matrix2graph(m, None)"
   ]
  },
  {
   "cell_type": "code",
   "execution_count": 3,
   "metadata": {
    "collapsed": false
   },
   "outputs": [
    {
     "name": "stderr",
     "output_type": "stream",
     "text": [
      "100%|██████████| 77350/77350 [00:26<00:00, 2892.37it/s] "
     ]
    },
    {
     "name": "stdout",
     "output_type": "stream",
     "text": [
      "548054 triangles\n"
     ]
    },
    {
     "name": "stderr",
     "output_type": "stream",
     "text": [
      "\n"
     ]
    }
   ],
   "source": [
    "# getting triangles\n",
    "nodes_nbrs = g.adj.items()\n",
    "\n",
    "triangles = set()\n",
    "for v, v_nbrs in tqdm(nodes_nbrs):\n",
    "    vs = set(v_nbrs) - set([v])\n",
    "    ntriangles = 0\n",
    "    for w in vs:\n",
    "        ws = set(g[w]) - set([w])\n",
    "        for u in vs.intersection(ws):\n",
    "            triangles.add(tuple(sorted([u, v, w])))\n",
    "        \n",
    "print(\"{} triangles\".format(len(triangles)))"
   ]
  },
  {
   "cell_type": "code",
   "execution_count": 9,
   "metadata": {
    "collapsed": false
   },
   "outputs": [
    {
     "name": "stdout",
     "output_type": "stream",
     "text": [
      "the percetange of 0, 1, 2, 3-order triangles:\n",
      "[ 65.93748061  29.30112726   4.51451864   0.24687348]\n"
     ]
    }
   ],
   "source": [
    "cnt = np.zeros(4)\n",
    "for t in triangles:\n",
    "    its = filter(lambda e: tuple(sorted(e)) in test_entries,\n",
    "                 itertools.combinations(t, 2))\n",
    "    cnt[len(list(its))] += 1\n",
    "\n",
    "print('the percetange of 0, 1, 2, 3-order triangles:')\n",
    "print(cnt / np.sum(cnt) * 100)"
   ]
  }
 ],
 "metadata": {
  "kernelspec": {
   "display_name": "Python 3",
   "language": "python",
   "name": "python3"
  },
  "language_info": {
   "codemirror_mode": {
    "name": "ipython",
    "version": 3
   },
   "file_extension": ".py",
   "mimetype": "text/x-python",
   "name": "python",
   "nbconvert_exporter": "python",
   "pygments_lexer": "ipython3",
   "version": "3.5.2"
  }
 },
 "nbformat": 4,
 "nbformat_minor": 0
}
