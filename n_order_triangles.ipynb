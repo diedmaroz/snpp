{
 "cells": [
  {
   "cell_type": "code",
   "execution_count": 2,
   "metadata": {
    "collapsed": false
   },
   "outputs": [],
   "source": [
    "%matplotlib inline\n",
    "import matplotlib.pyplot as plt\n",
    "\n",
    "from tqdm import tqdm\n",
    "import itertools\n",
    "from collections import defaultdict \n",
    "import numpy as np\n",
    "from snpp.utils.matrix import load_sparse_csr, \\\n",
    "    split_train_test\n",
    "from snpp.utils.signed_graph import matrix2graph\n",
    "\n",
    "\n",
    "dataset = 'epinions'\n",
    "raw_mat_path = 'data/{}.npz'.format(dataset)\n",
    "random_seed = 123456"
   ]
  },
  {
   "cell_type": "code",
   "execution_count": 3,
   "metadata": {
    "collapsed": false
   },
   "outputs": [
    {
     "name": "stdout",
     "output_type": "stream",
     "text": [
      "split_train_test\n"
     ]
    },
    {
     "name": "stderr",
     "output_type": "stream",
     "text": [
      "1278it [00:00, 6344.07it/s]"
     ]
    },
    {
     "name": "stdout",
     "output_type": "stream",
     "text": [
      "building MultiGraph\n"
     ]
    },
    {
     "name": "stderr",
     "output_type": "stream",
     "text": [
      "841372it [03:24, 4106.54it/s]\n"
     ]
    }
   ],
   "source": [
    "m = load_sparse_csr(raw_mat_path)\n",
    "\n",
    "print('split_train_test')\n",
    "train_m, test_m = split_train_test(\n",
    "    m,\n",
    "    weights=[0.9, 0.1])\n",
    "\n",
    "test_entries = set(tuple(sorted((i, j)))\n",
    "                   for i, j in zip(*test_m.nonzero()))\n",
    "g = matrix2graph(m, None)"
   ]
  },
  {
   "cell_type": "code",
   "execution_count": 4,
   "metadata": {
    "collapsed": false
   },
   "outputs": [
    {
     "name": "stderr",
     "output_type": "stream",
     "text": [
      "100%|██████████| 131828/131828 [02:07<00:00, 1035.59it/s]"
     ]
    },
    {
     "name": "stdout",
     "output_type": "stream",
     "text": [
      "4910076 triangles\n"
     ]
    },
    {
     "name": "stderr",
     "output_type": "stream",
     "text": [
      "\n"
     ]
    }
   ],
   "source": [
    "# getting all triangles\n",
    "nodes_nbrs = g.adj.items()\n",
    "\n",
    "triangles = set()\n",
    "for v, v_nbrs in tqdm(nodes_nbrs):\n",
    "    vs = set(v_nbrs) - set([v])\n",
    "    ntriangles = 0\n",
    "    for w in vs:\n",
    "        ws = set(g[w]) - set([w])\n",
    "        for u in vs.intersection(ws):\n",
    "            triangles.add(tuple(sorted([u, v, w])))\n",
    "        \n",
    "print(\"{} triangles\".format(len(triangles)))"
   ]
  },
  {
   "cell_type": "code",
   "execution_count": 5,
   "metadata": {
    "collapsed": false
   },
   "outputs": [
    {
     "name": "stderr",
     "output_type": "stream",
     "text": [
      "100%|██████████| 4910076/4910076 [00:50<00:00, 97802.16it/s] "
     ]
    },
    {
     "name": "stdout",
     "output_type": "stream",
     "text": [
      "the percetange of 0, 1, 2, 3-order triangles:\n",
      "[ 65.26021186  29.81945697   4.66593592   0.25439525]\n"
     ]
    },
    {
     "name": "stderr",
     "output_type": "stream",
     "text": [
      "\n"
     ]
    }
   ],
   "source": [
    "triangle_order_cnt = np.zeros(4)\n",
    "for t in tqdm(triangles):\n",
    "    its = filter(lambda e: tuple(sorted(e)) in test_entries,\n",
    "                 itertools.combinations(t, 2))\n",
    "    triangle_order_cnt[len(list(its))] += 1\n",
    "\n",
    "print('the percetange of 0, 1, 2, 3-order triangles:')\n",
    "print(triangle_order_cnt / np.sum(triangle_order_cnt) * 100)"
   ]
  },
  {
   "cell_type": "code",
   "execution_count": 6,
   "metadata": {
    "collapsed": false,
    "scrolled": true
   },
   "outputs": [
    {
     "name": "stderr",
     "output_type": "stream",
     "text": [
      "100%|██████████| 4910076/4910076 [00:44<00:00, 110050.18it/s]"
     ]
    },
    {
     "name": "stdout",
     "output_type": "stream",
     "text": [
      "(65650, 4)\n",
      "mean of triangle order count on edges: [  0.          22.30248286   6.97946687   0.5707997 ]\n",
      "median of triangle order count on edges: [ 0.  8.  2.  0.]\n",
      "std of triangle order count on edges: [  0.          35.43107472  12.05992168   1.30934553]\n",
      "max of triangle order count on edges: [    0.  1505.   346.    20.]\n",
      "min of triangle order count on edges: [ 0.  0.  0.  0.]\n"
     ]
    },
    {
     "name": "stderr",
     "output_type": "stream",
     "text": [
      "\n"
     ]
    }
   ],
   "source": [
    "edge2triangle_order = defaultdict(lambda: np.zeros(4))\n",
    "for t in tqdm(triangles):\n",
    "    edges = list(filter(lambda e: tuple(sorted(e)) in test_entries,\n",
    "                       itertools.combinations(t, 2)))\n",
    "    for e in edges:\n",
    "       edge2triangle_order[e][len(edges)] += 1\n",
    "    \n",
    "m = np.array(list(edge2triangle_order.values()))\n",
    "print(m.shape)\n",
    "\n",
    "print('mean of triangle order count on edges: {}'.format(np.mean(m, axis=0)))\n",
    "print('median of triangle order count on edges: {}'.format(np.median(m, axis=0)))\n",
    "print('std of triangle order count on edges: {}'.format(np.std(m, axis=0)))\n",
    "print('max of triangle order count on edges: {}'.format(np.max(m, axis=0)))\n",
    "print('min of triangle order count on edges: {}'.format(np.min(m, axis=0)))\n",
    "                                                                 \n"
   ]
  },
  {
   "cell_type": "code",
   "execution_count": 7,
   "metadata": {
    "collapsed": false
   },
   "outputs": [
    {
     "name": "stdout",
     "output_type": "stream",
     "text": [
      "triangle count mean: 29.852749428789032\n",
      "triangle count median: 11.0\n",
      "triangle count max: 1869.0\n"
     ]
    }
   ],
   "source": [
    "print('triangle count mean: {}'.format(np.mean(m.sum(axis=1))))\n",
    "print('triangle count median: {}'.format(np.median(m.sum(axis=1))))\n",
    "print('triangle count max: {}'.format(np.max(m.sum(axis=1))))"
   ]
  },
  {
   "cell_type": "code",
   "execution_count": 8,
   "metadata": {
    "collapsed": false
   },
   "outputs": [
    {
     "name": "stdout",
     "output_type": "stream",
     "text": [
      "#edges with at least 1 triangles: 65650\n",
      "#edges without any triangles: 17129\n"
     ]
    }
   ],
   "source": [
    "print(\"#edges with at least 1 triangles: {}\".format(m.shape[0]))\n",
    "print(\"#edges without any triangles: {}\".format(len(test_entries) - m.shape[0]))"
   ]
  },
  {
   "cell_type": "code",
   "execution_count": 9,
   "metadata": {
    "collapsed": false,
    "scrolled": true
   },
   "outputs": [
    {
     "data": {
      "image/png": "[encoded data removed]",
      "text/plain": [
       "<matplotlib.figure.Figure at 0x7f82fdbd8080>"
      ]
     },
     "metadata": {},
     "output_type": "display_data"
    }
   ],
   "source": [
    "triangle_counts = m.sum(axis=1)\n",
    "plt.hist(triangle_counts, 50)\n",
    "plt.show()"
   ]
  },
  {
   "cell_type": "code",
   "execution_count": 10,
   "metadata": {
    "collapsed": false
   },
   "outputs": [
    {
     "data": {
      "image/png": "[encoded data removed]",
      "text/plain": [
       "<matplotlib.figure.Figure at 0x7f82ec274978>"
      ]
     },
     "metadata": {},
     "output_type": "display_data"
    }
   ],
   "source": [
    "plt.hist(triangle_counts[triangle_counts < 40], 50)\n",
    "plt.show()"
   ]
  }
 ],
 "metadata": {
  "kernelspec": {
   "display_name": "Python 3",
   "language": "python",
   "name": "python3"
  },
  "language_info": {
   "codemirror_mode": {
    "name": "ipython",
    "version": 3
   },
   "file_extension": ".py",
   "mimetype": "text/x-python",
   "name": "python",
   "nbconvert_exporter": "python",
   "pygments_lexer": "ipython3",
   "version": "3.5.2"
  }
 },
 "nbformat": 4,
 "nbformat_minor": 0
}
