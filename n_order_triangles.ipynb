{
 "cells": [
  {
   "cell_type": "code",
   "execution_count": 9,
   "metadata": {
    "collapsed": false
   },
   "outputs": [],
   "source": [
    "from tqdm import tqdm\n",
    "import itertools\n",
    "from collections import defaultdict \n",
    "import numpy as np\n",
    "from snpp.utils.matrix import load_sparse_csr, \\\n",
    "    split_train_test\n",
    "from snpp.utils.signed_graph import matrix2graph\n",
    "\n",
    "\n",
    "dataset = 'slashdot'\n",
    "raw_mat_path = 'data/{}.npz'.format(dataset)\n",
    "random_seed = 123456"
   ]
  },
  {
   "cell_type": "code",
   "execution_count": 3,
   "metadata": {
    "collapsed": false
   },
   "outputs": [
    {
     "name": "stdout",
     "output_type": "stream",
     "text": [
      "split_train_test\n"
     ]
    },
    {
     "name": "stderr",
     "output_type": "stream",
     "text": [
      "1291it [00:00, 6506.56it/s]"
     ]
    },
    {
     "name": "stdout",
     "output_type": "stream",
     "text": [
      "building MultiGraph\n"
     ]
    },
    {
     "name": "stderr",
     "output_type": "stream",
     "text": [
      "516575it [01:32, 5584.05it/s]\n"
     ]
    }
   ],
   "source": [
    "m = load_sparse_csr(raw_mat_path)\n",
    "\n",
    "print('split_train_test')\n",
    "train_m, test_m = split_train_test(\n",
    "    m,\n",
    "    weights=[0.9, 0.1])\n",
    "\n",
    "test_entries = set(tuple(sorted((i, j)))\n",
    "                   for i, j in zip(*test_m.nonzero()))\n",
    "g = matrix2graph(m, None)"
   ]
  },
  {
   "cell_type": "code",
   "execution_count": 4,
   "metadata": {
    "collapsed": false
   },
   "outputs": [
    {
     "name": "stderr",
     "output_type": "stream",
     "text": [
      "100%|██████████| 77350/77350 [00:27<00:00, 2863.39it/s] "
     ]
    },
    {
     "name": "stdout",
     "output_type": "stream",
     "text": [
      "548054 triangles\n"
     ]
    },
    {
     "name": "stderr",
     "output_type": "stream",
     "text": [
      "\n"
     ]
    }
   ],
   "source": [
    "# getting triangles\n",
    "nodes_nbrs = g.adj.items()\n",
    "\n",
    "triangles = set()\n",
    "for v, v_nbrs in tqdm(nodes_nbrs):\n",
    "    vs = set(v_nbrs) - set([v])\n",
    "    ntriangles = 0\n",
    "    for w in vs:\n",
    "        ws = set(g[w]) - set([w])\n",
    "        for u in vs.intersection(ws):\n",
    "            triangles.add(tuple(sorted([u, v, w])))\n",
    "        \n",
    "print(\"{} triangles\".format(len(triangles)))"
   ]
  },
  {
   "cell_type": "code",
   "execution_count": 6,
   "metadata": {
    "collapsed": false
   },
   "outputs": [
    {
     "name": "stderr",
     "output_type": "stream",
     "text": [
      "100%|██████████| 548054/548054 [00:05<00:00, 100192.73it/s]\n"
     ]
    },
    {
     "name": "stdout",
     "output_type": "stream",
     "text": [
      "the percetange of 0, 1, 2, 3-order triangles:\n",
      "[ 65.53660771  29.58832524   4.61852299   0.25654406]\n"
     ]
    }
   ],
   "source": [
    "triangle_order_cnt = np.zeros(4)\n",
    "for t in tqdm(triangles):\n",
    "    its = filter(lambda e: tuple(sorted(e)) in test_entries,\n",
    "                 itertools.combinations(t, 2))\n",
    "    triangle_order_cnt[len(list(its))] += 1\n",
    "\n",
    "print('the percetange of 0, 1, 2, 3-order triangles:')\n",
    "print(triangle_order_cnt / np.sum(triangle_order_cnt) * 100)"
   ]
  },
  {
   "cell_type": "code",
   "execution_count": 19,
   "metadata": {
    "collapsed": false
   },
   "outputs": [
    {
     "name": "stderr",
     "output_type": "stream",
     "text": [
      "100%|██████████| 548054/548054 [00:04<00:00, 115914.85it/s]"
     ]
    },
    {
     "name": "stdout",
     "output_type": "stream",
     "text": [
      "(26788, 4)\n",
      "mean of triangle order count on edges: [ 0.          6.05345677  1.8898014   0.15745856]\n",
      "median of triangle order count on edges: [ 0.  2.  1.  0.]\n",
      "max of triangle order count on edges: [   0.  434.   91.    8.]\n",
      "min of triangle order count on edges: [ 0.  0.  0.  0.]\n"
     ]
    },
    {
     "name": "stderr",
     "output_type": "stream",
     "text": [
      "\n"
     ]
    }
   ],
   "source": [
    "edge2triangle_order = defaultdict(lambda: np.zeros(4))\n",
    "for t in tqdm(triangles):\n",
    "    edges = list(filter(lambda e: tuple(sorted(e)) in test_entries,\n",
    "                       itertools.combinations(t, 2)))\n",
    "    for e in edges:\n",
    "       edge2triangle_order[e][len(edges)] += 1\n",
    "    \n",
    "m = np.array(list(edge2triangle_order.values()))\n",
    "print(m.shape)\n",
    "\n",
    "print('mean of triangle order count on edges: {}'.format(np.mean(m, axis=0)))\n",
    "print('median of triangle order count on edges: {}'.format(np.median(m, axis=0)))\n",
    "print('max of triangle order count on edges: {}'.format(np.max(m, axis=0)))\n",
    "print('min of triangle order count on edges: {}'.format(np.min(m, axis=0)))\n",
    "                                                                 \n"
   ]
  }
 ],
 "metadata": {
  "kernelspec": {
   "display_name": "Python 3",
   "language": "python",
   "name": "python3"
  },
  "language_info": {
   "codemirror_mode": {
    "name": "ipython",
    "version": 3
   },
   "file_extension": ".py",
   "mimetype": "text/x-python",
   "name": "python",
   "nbconvert_exporter": "python",
   "pygments_lexer": "ipython3",
   "version": "3.5.2"
  }
 },
 "nbformat": 4,
 "nbformat_minor": 0
}
