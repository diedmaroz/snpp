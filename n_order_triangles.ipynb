{
 "cells": [
  {
   "cell_type": "code",
   "execution_count": 18,
   "metadata": {
    "collapsed": false
   },
   "outputs": [],
   "source": [
    "%matplotlib inline\n",
    "import matplotlib.pyplot as plt\n",
    "\n",
    "from tqdm import tqdm\n",
    "import itertools\n",
    "from collections import defaultdict \n",
    "import numpy as np\n",
    "from snpp.utils.matrix import load_sparse_csr, \\\n",
    "    split_train_test\n",
    "from snpp.utils.signed_graph import matrix2graph\n",
    "\n",
    "\n",
    "dataset = 'slashdot'\n",
    "raw_mat_path = 'data/{}.npz'.format(dataset)\n",
    "random_seed = 123456"
   ]
  },
  {
   "cell_type": "code",
   "execution_count": 3,
   "metadata": {
    "collapsed": false
   },
   "outputs": [
    {
     "name": "stdout",
     "output_type": "stream",
     "text": [
      "split_train_test\n"
     ]
    },
    {
     "name": "stderr",
     "output_type": "stream",
     "text": [
      "988it [00:00, 4067.39it/s]"
     ]
    },
    {
     "name": "stdout",
     "output_type": "stream",
     "text": [
      "building MultiGraph\n"
     ]
    },
    {
     "name": "stderr",
     "output_type": "stream",
     "text": [
      "516575it [02:38, 3249.78it/s]\n"
     ]
    }
   ],
   "source": [
    "m = load_sparse_csr(raw_mat_path)\n",
    "\n",
    "print('split_train_test')\n",
    "train_m, test_m = split_train_test(\n",
    "    m,\n",
    "    weights=[0.9, 0.1])\n",
    "\n",
    "test_entries = set(tuple(sorted((i, j)))\n",
    "                   for i, j in zip(*test_m.nonzero()))\n",
    "g = matrix2graph(m, None)"
   ]
  },
  {
   "cell_type": "code",
   "execution_count": 4,
   "metadata": {
    "collapsed": false
   },
   "outputs": [
    {
     "name": "stderr",
     "output_type": "stream",
     "text": [
      "100%|██████████| 77350/77350 [01:05<00:00, 1188.74it/s] "
     ]
    },
    {
     "name": "stdout",
     "output_type": "stream",
     "text": [
      "548054 triangles\n"
     ]
    },
    {
     "name": "stderr",
     "output_type": "stream",
     "text": [
      "\n"
     ]
    }
   ],
   "source": [
    "# getting all triangles\n",
    "nodes_nbrs = g.adj.items()\n",
    "\n",
    "triangles = set()\n",
    "for v, v_nbrs in tqdm(nodes_nbrs):\n",
    "    vs = set(v_nbrs) - set([v])\n",
    "    ntriangles = 0\n",
    "    for w in vs:\n",
    "        ws = set(g[w]) - set([w])\n",
    "        for u in vs.intersection(ws):\n",
    "            triangles.add(tuple(sorted([u, v, w])))\n",
    "        \n",
    "print(\"{} triangles\".format(len(triangles)))"
   ]
  },
  {
   "cell_type": "code",
   "execution_count": 5,
   "metadata": {
    "collapsed": false
   },
   "outputs": [
    {
     "name": "stderr",
     "output_type": "stream",
     "text": [
      "100%|██████████| 548054/548054 [00:10<00:00, 52945.72it/s]"
     ]
    },
    {
     "name": "stdout",
     "output_type": "stream",
     "text": [
      "the percetange of 0, 1, 2, 3-order triangles:\n",
      "[ 65.74644104  29.37940422   4.63312009   0.24103464]\n"
     ]
    },
    {
     "name": "stderr",
     "output_type": "stream",
     "text": [
      "\n"
     ]
    }
   ],
   "source": [
    "triangle_order_cnt = np.zeros(4)\n",
    "for t in tqdm(triangles):\n",
    "    its = filter(lambda e: tuple(sorted(e)) in test_entries,\n",
    "                 itertools.combinations(t, 2))\n",
    "    triangle_order_cnt[len(list(its))] += 1\n",
    "\n",
    "print('the percetange of 0, 1, 2, 3-order triangles:')\n",
    "print(triangle_order_cnt / np.sum(triangle_order_cnt) * 100)"
   ]
  },
  {
   "cell_type": "code",
   "execution_count": 7,
   "metadata": {
    "collapsed": false,
    "scrolled": true
   },
   "outputs": [
    {
     "name": "stderr",
     "output_type": "stream",
     "text": [
      "100%|██████████| 548054/548054 [00:03<00:00, 140581.56it/s]"
     ]
    },
    {
     "name": "stdout",
     "output_type": "stream",
     "text": [
      "(26682, 4)\n",
      "mean of triangle order count on edges: [ 0.          6.03459261  1.9033056   0.1485271 ]\n",
      "median of triangle order count on edges: [ 0.  2.  1.  0.]\n",
      "std of triangle order count on edges: [  0.          11.72956756   4.48512574   0.5433183 ]\n",
      "max of triangle order count on edges: [   0.  242.   63.    9.]\n",
      "min of triangle order count on edges: [ 0.  0.  0.  0.]\n"
     ]
    },
    {
     "name": "stderr",
     "output_type": "stream",
     "text": [
      "\n"
     ]
    }
   ],
   "source": [
    "edge2triangle_order = defaultdict(lambda: np.zeros(4))\n",
    "for t in tqdm(triangles):\n",
    "    edges = list(filter(lambda e: tuple(sorted(e)) in test_entries,\n",
    "                       itertools.combinations(t, 2)))\n",
    "    for e in edges:\n",
    "       edge2triangle_order[e][len(edges)] += 1\n",
    "    \n",
    "m = np.array(list(edge2triangle_order.values()))\n",
    "print(m.shape)\n",
    "\n",
    "print('mean of triangle order count on edges: {}'.format(np.mean(m, axis=0)))\n",
    "print('median of triangle order count on edges: {}'.format(np.median(m, axis=0)))\n",
    "print('std of triangle order count on edges: {}'.format(np.std(m, axis=0)))\n",
    "print('max of triangle order count on edges: {}'.format(np.max(m, axis=0)))\n",
    "print('min of triangle order count on edges: {}'.format(np.min(m, axis=0)))\n",
    "                                                                 \n"
   ]
  },
  {
   "cell_type": "code",
   "execution_count": 26,
   "metadata": {
    "collapsed": false
   },
   "outputs": [
    {
     "name": "stdout",
     "output_type": "stream",
     "text": [
      "triangle count mean: 8.086425305449367\n",
      "triangle count median: 3.0\n",
      "triangle count max: 307.0\n"
     ]
    }
   ],
   "source": [
    "print('triangle count mean: {}'.format(np.mean(m.sum(axis=1))))\n",
    "print('triangle count median: {}'.format(np.median(m.sum(axis=1))))\n",
    "print('triangle count max: {}'.format(np.max(m.sum(axis=1))))"
   ]
  },
  {
   "cell_type": "code",
   "execution_count": 16,
   "metadata": {
    "collapsed": false
   },
   "outputs": [
    {
     "name": "stdout",
     "output_type": "stream",
     "text": [
      "#edges with at least 1 triangles: 26682\n",
      "#edges without any triangles: 24489\n"
     ]
    }
   ],
   "source": [
    "print(\"#edges with at least 1 triangles: {}\".format(m.shape[0]))\n",
    "print(\"#edges without any triangles: {}\".format(len(test_entries) - m.shape[0]))"
   ]
  },
  {
   "cell_type": "code",
   "execution_count": 31,
   "metadata": {
    "collapsed": false,
    "scrolled": true
   },
   "outputs": [
    {
     "data": {
      "image/png": "[encoded data removed]",
      "text/plain": [
       "<matplotlib.figure.Figure at 0x7eff4daab240>"
      ]
     },
     "metadata": {},
     "output_type": "display_data"
    }
   ],
   "source": [
    "triangle_counts = m.sum(axis=1)\n",
    "plt.hist(triangle_counts, 50)\n",
    "plt.show()"
   ]
  },
  {
   "cell_type": "code",
   "execution_count": 30,
   "metadata": {
    "collapsed": false
   },
   "outputs": [
    {
     "data": {
      "image/png": "[encoded data removed]",
      "text/plain": [
       "<matplotlib.figure.Figure at 0x7eff4dd88eb8>"
      ]
     },
     "metadata": {},
     "output_type": "display_data"
    }
   ],
   "source": [
    "plt.hist(triangle_counts[triangle_counts < 40], 50)\n",
    "plt.show()"
   ]
  }
 ],
 "metadata": {
  "kernelspec": {
   "display_name": "Python 3",
   "language": "python",
   "name": "python3"
  },
  "language_info": {
   "codemirror_mode": {
    "name": "ipython",
    "version": 3
   },
   "file_extension": ".py",
   "mimetype": "text/x-python",
   "name": "python",
   "nbconvert_exporter": "python",
   "pygments_lexer": "ipython3",
   "version": "3.5.2"
  }
 },
 "nbformat": 4,
 "nbformat_minor": 0
}
