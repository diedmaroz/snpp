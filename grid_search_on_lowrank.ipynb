{
 "cells": [
  {
   "cell_type": "code",
   "execution_count": 1,
   "metadata": {
    "collapsed": false
   },
   "outputs": [],
   "source": [
    "import random\n",
    "import numpy as np\n",
    "import pandas as pd\n",
    "\n",
    "from snpp.utils.data import load_train_test_graphs\n",
    "from snpp.utils.signed_graph import g2m\n",
    "from snpp.cores.lowrank import alq_spark, predict_signs\n",
    "\n",
    "from snpp.utils.spark import sc\n",
    "\n",
    "dataset = 'slashdot'\n",
    "random_seed = 123456\n",
    "\n",
    "recache_input = False\n",
    "\n",
    "random.seed(random_seed)\n",
    "np.random.seed(random_seed)"
   ]
  },
  {
   "cell_type": "code",
   "execution_count": 2,
   "metadata": {
    "collapsed": false
   },
   "outputs": [
    {
     "name": "stdout",
     "output_type": "stream",
     "text": [
      "loading train and test graphs...\n"
     ]
    },
    {
     "name": "stderr",
     "output_type": "stream",
     "text": [
      "100%|██████████| 77357/77357 [00:01<00:00, 56070.57it/s]\n"
     ]
    }
   ],
   "source": [
    "from snpp.utils.signed_graph import fill_diagonal\n",
    "train_g, test_g = load_train_test_graphs(dataset, recache_input)\n",
    "\n",
    "train_m = g2m(train_g)\n",
    "truth = set((i, j, test_g[i][j]['sign']) for i, j in test_g.edges_iter())\n"
   ]
  },
  {
   "cell_type": "code",
   "execution_count": 3,
   "metadata": {
    "collapsed": false
   },
   "outputs": [
    {
     "name": "stdout",
     "output_type": "stream",
     "text": [
      "77357\n",
      "77357\n",
      "(77357, 77357)\n",
      "1.0\n"
     ]
    }
   ],
   "source": [
    "print(train_g.number_of_nodes())\n",
    "print(test_g.number_of_nodes())\n",
    "print(train_m.shape)\n",
    "print(train_m[0, 0])"
   ]
  },
  {
   "cell_type": "code",
   "execution_count": null,
   "metadata": {
    "collapsed": false
   },
   "outputs": [],
   "source": [
    "param_grid = {\n",
    "    'lambda_': [0.01, 0.1, 0.25],\n",
    "    'k': [10, 25, 50, 100, 200],\n",
    "    'iterations': [20, 50, 100]\n",
    "}\n"
   ]
  },
  {
   "cell_type": "code",
   "execution_count": null,
   "metadata": {
    "collapsed": false
   },
   "outputs": [
    {
     "name": "stderr",
     "output_type": "stream",
     "text": [
      "\r",
      "  0%|          | 0/45 [00:00<?, ?it/s]"
     ]
    },
    {
     "name": "stdout",
     "output_type": "stream",
     "text": [
      "{'k': 10, 'lambda_': 0.01, 'iterations': 20}\n"
     ]
    },
    {
     "name": "stderr",
     "output_type": "stream",
     "text": [
      "\r",
      "  2%|▏         | 1/45 [01:07<49:36, 67.65s/it]"
     ]
    },
    {
     "name": "stdout",
     "output_type": "stream",
     "text": [
      "0.8194277749816098\n",
      "{'k': 10, 'lambda_': 0.01, 'iterations': 50}\n"
     ]
    }
   ],
   "source": [
    "from itertools import product\n",
    "from copy import copy\n",
    "from tqdm import tqdm\n",
    "\n",
    "rows = []\n",
    "for values in tqdm(list(product(*param_grid.values()))):\n",
    "    param_instance = dict(zip(param_grid.keys(), values))\n",
    "    print(param_instance)\n",
    "    X, Y = alq_spark(train_m, sc=sc,                 \n",
    "                     seed=random_seed,\n",
    "                     **param_instance)\n",
    "    preds = predict_signs(X, Y, test_g.edges(), sc)\n",
    "    row = copy(param_instance)\n",
    "    row['accuracy'] = len(truth.intersection(preds)) / len(truth)\n",
    "    print(row['accuracy'])\n",
    "    rows.append(row)\n",
    "df = pd.DataFrame.from_records(rows)"
   ]
  },
  {
   "cell_type": "code",
   "execution_count": null,
   "metadata": {
    "collapsed": false
   },
   "outputs": [],
   "source": [
    "from IPython.display import display\n",
    "display(df)"
   ]
  }
 ],
 "metadata": {
  "kernelspec": {
   "display_name": "Python 3",
   "language": "python",
   "name": "python3"
  },
  "language_info": {
   "codemirror_mode": {
    "name": "ipython",
    "version": 3
   },
   "file_extension": ".py",
   "mimetype": "text/x-python",
   "name": "python",
   "nbconvert_exporter": "python",
   "pygments_lexer": "ipython3",
   "version": "3.5.2"
  }
 },
 "nbformat": 4,
 "nbformat_minor": 0
}
