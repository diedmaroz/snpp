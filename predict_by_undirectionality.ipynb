{
 "cells": [
  {
   "cell_type": "code",
   "execution_count": 14,
   "metadata": {
    "collapsed": true
   },
   "outputs": [],
   "source": [
    "import numpy as np\n",
    "from snpp.cores.max_balance import greedy\n",
    "from snpp.utils.matrix import load_sparse_csr, split_train_test\n",
    "\n",
    "dataset = \"epinions\""
   ]
  },
  {
   "cell_type": "code",
   "execution_count": 15,
   "metadata": {
    "collapsed": false
   },
   "outputs": [],
   "source": [
    "m = load_sparse_csr('data/{}.npz'.format(dataset))\n",
    "train_m, test_m = split_train_test(\n",
    "            m,\n",
    "            weights=[0.9, 0.1])\n",
    "train_m = train_m.tolil()\n",
    "test_m = test_m.tolil()"
   ]
  },
  {
   "cell_type": "code",
   "execution_count": 16,
   "metadata": {
    "collapsed": true
   },
   "outputs": [],
   "source": [
    "train_nz = set(zip(*train_m.nonzero()))\n",
    "test_nz = set(zip(*test_m.nonzero()))\n",
    "assert len(train_nz.intersection(test_nz)) == 0"
   ]
  },
  {
   "cell_type": "code",
   "execution_count": 17,
   "metadata": {
    "collapsed": false
   },
   "outputs": [
    {
     "name": "stdout",
     "output_type": "stream",
     "text": [
      "accuracy on predictbale edges using undirectionality = 0.9785283883561062\n"
     ]
    }
   ],
   "source": [
    "predictable_edges = [(i, j) for i, j in test_nz if (j, i) in train_nz]\n",
    "correct_n = len(list(filter(lambda ij: test_m[ij[0], ij[1]] == train_m[ij[1], ij[0]], predictable_edges)))\n",
    "print('accuracy on predictbale edges using undirectionality = {}'.format(correct_n / len(predictable_edges)))"
   ]
  }
 ],
 "metadata": {
  "kernelspec": {
   "display_name": "Python 3",
   "language": "python",
   "name": "python3"
  },
  "language_info": {
   "codemirror_mode": {
    "name": "ipython",
    "version": 3
   },
   "file_extension": ".py",
   "mimetype": "text/x-python",
   "name": "python",
   "nbconvert_exporter": "python",
   "pygments_lexer": "ipython3",
   "version": "3.5.2"
  }
 },
 "nbformat": 4,
 "nbformat_minor": 0
}
