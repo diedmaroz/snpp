{
 "cells": [
  {
   "cell_type": "code",
   "execution_count": null,
   "metadata": {
    "collapsed": false
   },
   "outputs": [],
   "source": [
    "# confident edges: edges that iterative approach predicted early (in other words, \"confidently\")\n",
    "# we compare our method and LR method on the accuracy of those edges\n",
    "\n",
    "\n",
    "import _pickle as pkl\n",
    "import networkx as nx\n",
    "import numpy as np\n",
    "import random\n",
    "\n",
    "from tqdm import tqdm\n",
    "from snpp.cores.lowrank import alq_spark, predict_signs\n",
    "from snpp.utils.matrix import split_train_test, load_sparse_csr\n",
    "from snpp.utils.signed_graph import g2m\n",
    "from snpp.utils.data import load_train_test_graphs\n",
    "from snpp.utils.edge_filter import filter_by_min_triangle_count\n",
    "\n",
    "from snpp.utils.spark import sc\n",
    "\n",
    "dataset = 'slashdot'\n",
    "lambda_ = 0.2\n",
    "k = 40\n",
    "max_iter = 100\n",
    "random_seed = 123456\n",
    "min_tri_count = 20\n",
    "\n",
    "recache_input = False\n",
    "\n",
    "random.seed(random_seed)\n",
    "np.random.seed(random_seed)"
   ]
  },
  {
   "cell_type": "code",
   "execution_count": null,
   "metadata": {
    "collapsed": false,
    "scrolled": true
   },
   "outputs": [],
   "source": [
    "train_g, test_g = load_train_test_graphs(dataset, recache_input)\n"
   ]
  },
  {
   "cell_type": "code",
   "execution_count": null,
   "metadata": {
    "collapsed": false
   },
   "outputs": [],
   "source": [
    "################\n",
    "## DEBUG\n",
    "#################\n",
    "print(train_g.number_of_nodes())\n",
    "print(train_g.number_of_edges())\n",
    "print(test_g.number_of_edges())\n",
    "assert train_g.number_of_nodes() == test_g.number_of_nodes()"
   ]
  },
  {
   "cell_type": "code",
   "execution_count": null,
   "metadata": {
    "collapsed": false
   },
   "outputs": [],
   "source": [
    "train_g_ud = train_g.to_undirected()\n",
    "\n",
    "train_m = g2m(train_g)\n",
    "train_m_ud = g2m(train_g_ud)\n",
    "print(train_m_ud.shape)\n",
    "print(train_m_ud.nnz)"
   ]
  },
  {
   "cell_type": "code",
   "execution_count": null,
   "metadata": {
    "collapsed": false
   },
   "outputs": [],
   "source": [
    "confident_edges = set(filter_by_min_triangle_count(train_g_ud, test_g.edges(), min_tri_count))\n",
    "print(len(confident_edges))"
   ]
  },
  {
   "cell_type": "code",
   "execution_count": null,
   "metadata": {
    "collapsed": false
   },
   "outputs": [],
   "source": [
    "X, Y = alq_spark(train_m, k=k, sc=sc,\n",
    "                 lambda_=lambda_, iterations=max_iter,\n",
    "                 seed=random_seed)"
   ]
  },
  {
   "cell_type": "code",
   "execution_count": null,
   "metadata": {
    "collapsed": false,
    "scrolled": true
   },
   "outputs": [],
   "source": [
    "truth = set((i, j, test_g[i][j]['sign']) for i, j in confident_edges)\n",
    "preds = predict_signs(X, Y, confident_edges, sc)\n",
    "assert len(truth) == len(preds)\n",
    "assert set((i, j) for i, j, _ in preds) == set((i ,j) for i, j, _ in truth)\n",
    "\n",
    "print('=> accuracy on {} edges {} (lowrank)'.format(len(preds), len(truth.intersection(preds)) / len(truth)))"
   ]
  },
  {
   "cell_type": "code",
   "execution_count": null,
   "metadata": {
    "collapsed": false,
    "scrolled": true
   },
   "outputs": [],
   "source": [
    "## Iterative approach\n",
    "from snpp.cores.joint_part_pred import iterative_approach\n",
    "from snpp.cores.max_balance import faster_greedy\n",
    "from snpp.cores.lowrank import partition_graph\n",
    "from snpp.cores.budget_allocation import constant_budget\n",
    "from snpp.cores.triangle import build_edge2edges\n",
    "\n",
    "part, iter_preds, status = iterative_approach(\n",
    "    train_g_ud,\n",
    "    T=confident_edges,\n",
    "    k=k,\n",
    "    graph_partition_f=partition_graph,\n",
    "    graph_partition_kwargs=dict(sc=sc,\n",
    "                                lambda_=lambda_,\n",
    "                                iterations=max_iter,\n",
    "                                seed=random_seed),\n",
    "    budget_allocation_f=constant_budget,\n",
    "    budget_allocation_kwargs=dict(const=200),\n",
    "    solve_maxbalance_f=faster_greedy,\n",
    "    solve_maxbalance_kwargs={'edge2edges': build_edge2edges(train_g_ud.copy(),\n",
    "                                                            confident_edges)},\n",
    "    truth=set([(i, j, test_g[i][j]['sign'])\n",
    "               for i, j in confident_edges]),\n",
    "    perform_last_partition=False)\n"
   ]
  }
 ],
 "metadata": {
  "kernelspec": {
   "display_name": "Python 3",
   "language": "python",
   "name": "python3"
  },
  "language_info": {
   "codemirror_mode": {
    "name": "ipython",
    "version": 3
   },
   "file_extension": ".py",
   "mimetype": "text/x-python",
   "name": "python",
   "nbconvert_exporter": "python",
   "pygments_lexer": "ipython3",
   "version": "3.5.2"
  }
 },
 "nbformat": 4,
 "nbformat_minor": 0
}
