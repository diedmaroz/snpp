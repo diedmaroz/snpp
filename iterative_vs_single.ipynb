{
 "cells": [
  {
   "cell_type": "code",
   "execution_count": null,
   "metadata": {
    "collapsed": true
   },
   "outputs": [],
   "source": [
    "# 1. single approach that predicts N edges using max_balance in one run\n",
    "# and then predict using lowrank method\n",
    "\n",
    "# 2. iterative approach that predicts N edges in X runs\n",
    "# and then predict using LR method\n",
    "\n",
    "\n",
    "# result:\n",
    "# plot of two lines: \n",
    "# x-axis: N, minimum triangle count threshold (similar to embeddedness)\n",
    "# y-axis: accuracy"
   ]
  }
 ],
 "metadata": {
  "kernelspec": {
   "display_name": "Python 3",
   "language": "python",
   "name": "python3"
  },
  "language_info": {
   "codemirror_mode": {
    "name": "ipython",
    "version": 3
   },
   "file_extension": ".py",
   "mimetype": "text/x-python",
   "name": "python",
   "nbconvert_exporter": "python",
   "pygments_lexer": "ipython3",
   "version": "3.5.2"
  }
 },
 "nbformat": 4,
 "nbformat_minor": 0
}
