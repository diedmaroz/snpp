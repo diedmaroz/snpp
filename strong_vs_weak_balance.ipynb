{
 "cells": [
  {
   "cell_type": "code",
   "execution_count": null,
   "metadata": {
    "collapsed": true
   },
   "outputs": [],
   "source": [
    "# max_balance that uses only strong balance (equivalent to making cluster labels universally identical)\n",
    "# iterative approach that uses weak balance\n",
    "# predict 100, 200, ..., 2000 edges\n",
    "\n",
    "# result:\n",
    "# plot of two lines\n",
    "# x-axis: edge count (budget)\n",
    "# y-axis: accuracy\n"
   ]
  }
 ],
 "metadata": {
  "kernelspec": {
   "display_name": "Python 3",
   "language": "python",
   "name": "python3"
  },
  "language_info": {
   "codemirror_mode": {
    "name": "ipython",
    "version": 3
   },
   "file_extension": ".py",
   "mimetype": "text/x-python",
   "name": "python",
   "nbconvert_exporter": "python",
   "pygments_lexer": "ipython3",
   "version": "3.5.2"
  }
 },
 "nbformat": 4,
 "nbformat_minor": 0
}
