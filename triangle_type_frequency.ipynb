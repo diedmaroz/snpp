{
 "cells": [
  {
   "cell_type": "markdown",
   "metadata": {},
   "source": [
    "## Part 1: Triangle Type Frequency\n",
    "\n",
    "The frequency on triangle types according to social balance theory"
   ]
  },
  {
   "cell_type": "code",
   "execution_count": 4,
   "metadata": {
    "collapsed": true
   },
   "outputs": [],
   "source": [
    "from snpp.utils.data import load_csv_network\n",
    "from snpp.utils.graph import get_triangles\n",
    "from itertools import combinations\n",
    "from collections import Counter\n",
    "from tqdm import tqdm\n",
    "import pandas as pd"
   ]
  },
  {
   "cell_type": "code",
   "execution_count": 5,
   "metadata": {
    "collapsed": true
   },
   "outputs": [],
   "source": [
    "g = load_csv_network('data/soc-sign-slashdot.txt').to_undirected()"
   ]
  },
  {
   "cell_type": "code",
   "execution_count": 6,
   "metadata": {
    "collapsed": false
   },
   "outputs": [],
   "source": [
    "g = g.to_undirected()"
   ]
  },
  {
   "cell_type": "code",
   "execution_count": 7,
   "metadata": {
    "collapsed": false
   },
   "outputs": [
    {
     "name": "stderr",
     "output_type": "stream",
     "text": [
      "100%|██████████| 77350/77350 [00:25<00:00, 3069.49it/s] \n"
     ]
    }
   ],
   "source": [
    "tris = get_triangles(g)"
   ]
  },
  {
   "cell_type": "code",
   "execution_count": 22,
   "metadata": {
    "collapsed": false
   },
   "outputs": [
    {
     "name": "stderr",
     "output_type": "stream",
     "text": [
      "100%|██████████| 548054/548054 [00:05<00:00, 106135.38it/s]"
     ]
    },
    {
     "name": "stdout",
     "output_type": "stream",
     "text": [
      "Counter({0: 395623, 2: 75290, 1: 65323, 3: 11818})\n"
     ]
    },
    {
     "name": "stderr",
     "output_type": "stream",
     "text": [
      "\n"
     ]
    }
   ],
   "source": [
    "\n",
    "freqs = Counter()\n",
    "for tri in tqdm(tris):\n",
    "    neg_cnt = sum(1 for u, v in combinations(tri, 2) \n",
    "                    if g[u][v]['sign'] == -1)\n",
    "    freqs[neg_cnt] += 1    \n",
    "print(freqs)"
   ]
  },
  {
   "cell_type": "code",
   "execution_count": 23,
   "metadata": {
    "collapsed": false
   },
   "outputs": [
    {
     "name": "stdout",
     "output_type": "stream",
     "text": [
      "   0 triangle(s)  1 triangle(s)  2 triangle(s)  3 triangle(s)\n",
      "0      72.186865      11.919081      13.737697       2.156357\n"
     ]
    }
   ],
   "source": [
    "vals = np.array(list(freqs.values()))\n",
    "cols = list(map(lambda c: \"{} triangle(s)\".format(c),\n",
    "            freqs.keys()))\n",
    "df = pd.DataFrame(data=[vals / np.sum(vals) * 100],\n",
    "                  columns=cols)\n",
    "print(df)"
   ]
  },
  {
   "cell_type": "markdown",
   "metadata": {},
   "source": [
    "**Conclusion**\n",
    "\n",
    "There are very few weakly-balanced triangles (~2.15%). \n",
    "\n",
    "So weak social balance is not suitable here.\n",
    "\n",
    "In other words, strong social balance is sufficient."
   ]
  },
  {
   "cell_type": "markdown",
   "metadata": {},
   "source": [
    "## Part 2: Triangle-free edges\n",
    "\n",
    "#edges in none of the triangles v.s. \\#edges in at least one triangle\n",
    "\n",
    "Why? if there are many triangle-free edges, \n",
    "\n",
    "in other words, if the clustering-coefficient is low\n",
    "\n",
    "then triangle-based method is not suitable"
   ]
  },
  {
   "cell_type": "code",
   "execution_count": 14,
   "metadata": {
    "collapsed": false
   },
   "outputs": [
    {
     "name": "stderr",
     "output_type": "stream",
     "text": [
      "468554it [00:10, 46271.12it/s] "
     ]
    },
    {
     "name": "stdout",
     "output_type": "stream",
     "text": [
      "Counter({'#edge-without-triangle': 237386, '#edge-with-triangle': 231168})\n",
      "[ 0.50663531  0.49336469]\n"
     ]
    },
    {
     "name": "stderr",
     "output_type": "stream",
     "text": [
      "\n"
     ]
    }
   ],
   "source": [
    "freqs = Counter()\n",
    "for u, v in tqdm(g.edges_iter()):\n",
    "    if set(g.adj[u]).intersection(set(g.adj[v])):\n",
    "        freqs['#edge-without-triangle'] += 1\n",
    "    else:\n",
    "        freqs['#edge-with-triangle'] += 1\n",
    "\n",
    "print(freqs)\n",
    "vals = np.array(list(freqs.values()))\n",
    "print(vals / np.sum(vals))"
   ]
  },
  {
   "cell_type": "markdown",
   "metadata": {},
   "source": [
    "**Conclusion**\n",
    "\n",
    "There are quite triangle-free edges (**more than half of the edges**),\n",
    "thus triangle-based method is not suitable.\n",
    "\n",
    "This indicates higher order cycles can be considered. However, enumerating length-n cycles is time-consuming.\n"
   ]
  }
 ],
 "metadata": {
  "kernelspec": {
   "display_name": "Python 3",
   "language": "python",
   "name": "python3"
  },
  "language_info": {
   "codemirror_mode": {
    "name": "ipython",
    "version": 3
   },
   "file_extension": ".py",
   "mimetype": "text/x-python",
   "name": "python",
   "nbconvert_exporter": "python",
   "pygments_lexer": "ipython3",
   "version": "3.5.2"
  }
 },
 "nbformat": 4,
 "nbformat_minor": 1
}
