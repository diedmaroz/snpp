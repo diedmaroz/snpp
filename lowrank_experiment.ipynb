{
 "cells": [
  {
   "cell_type": "code",
   "execution_count": 11,
   "metadata": {
    "collapsed": false
   },
   "outputs": [],
   "source": [
    "import networkx as nx\n",
    "import numpy as np\n",
    "from snpp.cores.lowrank import alq_spark, predict_signs\n",
    "from snpp.utils.matrix import split_train_test, load_sparse_csr\n",
    "from snpp.utils.signed_graph import fill_diagonal\n",
    "from snpp.utils.data import load_train_test_data"
   ]
  },
  {
   "cell_type": "code",
   "execution_count": 2,
   "metadata": {
    "collapsed": true
   },
   "outputs": [],
   "source": [
    "dataset = 'slashdot'\n",
    "lambda_ = 0.2\n",
    "k = 40\n",
    "max_iter = 100\n",
    "random_seed = 123456"
   ]
  },
  {
   "cell_type": "code",
   "execution_count": 3,
   "metadata": {
    "collapsed": false
   },
   "outputs": [
    {
     "name": "stderr",
     "output_type": "stream",
     "text": [
      "100%|██████████| 77357/77357 [00:01<00:00, 62235.00it/s]\n"
     ]
    }
   ],
   "source": [
    "sc.setCheckpointDir('.checkpoint')  # stackoverflow errors\n",
    "    \n",
    "    \n",
    "m = load_sparse_csr('data/{}.npz'.format(dataset))\n",
    "train_m, test_m = split_train_test(m, [.9, .1])\n",
    "\n",
    "train_m = fill_diagonal(train_m)\n",
    "targets = list(zip(*test_m.nonzero()))\n",
    "\n"
   ]
  },
  {
   "cell_type": "code",
   "execution_count": 4,
   "metadata": {
    "collapsed": false
   },
   "outputs": [
    {
     "name": "stdout",
     "output_type": "stream",
     "text": [
      "(77357, 77357)\n",
      "(77357, 77357)\n",
      "1.0\n"
     ]
    },
    {
     "name": "stderr",
     "output_type": "stream",
     "text": [
      "100%|██████████| 77357/77357 [00:01<00:00, 38826.25it/s]\n"
     ]
    },
    {
     "name": "stdout",
     "output_type": "stream",
     "text": [
      "1.0\n"
     ]
    }
   ],
   "source": [
    "print(train_m.shape)\n",
    "print(test_m.shape)\n",
    "print(train_m[0, 0])\n",
    "\n",
    "train_m = fill_diagonal(train_m)\n",
    "print(train_m[0, 0])\n"
   ]
  },
  {
   "cell_type": "code",
   "execution_count": 5,
   "metadata": {
    "collapsed": false
   },
   "outputs": [],
   "source": [
    "X, Y = alq_spark(train_m, k=k, sc=sc,\n",
    "                 lambda_=lambda_, iterations=max_iter,\n",
    "                 seed=random_seed)\n",
    "\n"
   ]
  },
  {
   "cell_type": "code",
   "execution_count": 6,
   "metadata": {
    "collapsed": false,
    "scrolled": true
   },
   "outputs": [
    {
     "name": "stdout",
     "output_type": "stream",
     "text": [
      "(77357, 40)\n",
      "(77357, 77357)\n"
     ]
    }
   ],
   "source": [
    "print(X.shape)\n",
    "print(m.shape)"
   ]
  },
  {
   "cell_type": "code",
   "execution_count": 7,
   "metadata": {
    "collapsed": true
   },
   "outputs": [],
   "source": [
    "def predict_signs(X, Y, targets, sc):\n",
    "    Xb, Yb = sc.broadcast(X), sc.broadcast(np.transpose(Y))\n",
    "    preds = sc.parallelize(targets).map(\n",
    "        lambda e: (e[0], e[1], np.sign(np.dot(Xb.value[e[0]], Yb.value[e[1]])))\n",
    "    ).collect()\n",
    "    return preds"
   ]
  },
  {
   "cell_type": "code",
   "execution_count": 8,
   "metadata": {
    "collapsed": false
   },
   "outputs": [],
   "source": [
    "preds = predict_signs(X, Y, targets, sc)"
   ]
  },
  {
   "cell_type": "code",
   "execution_count": 9,
   "metadata": {
    "collapsed": false
   },
   "outputs": [
    {
     "name": "stdout",
     "output_type": "stream",
     "text": [
      "=> final accuracy 0.8584536761005072 (original lowrank)\n"
     ]
    }
   ],
   "source": [
    "test_m = test_m.todok()\n",
    "truth = set((i, j, test_m[i, j]) for i, j in targets)\n",
    "assert len(truth) == len(preds)\n",
    "print('=> final accuracy {} (original lowrank)'.format(len(truth.intersection(preds)) / len(truth)))"
   ]
  },
  {
   "cell_type": "code",
   "execution_count": 13,
   "metadata": {
    "collapsed": false
   },
   "outputs": [
    {
     "name": "stdout",
     "output_type": "stream",
     "text": [
      "loading pre-split train and test matrix...\n"
     ]
    }
   ],
   "source": [
    "### predict using symmetric matrix\n",
    "g, test_m = load_train_test_data(dataset, False)\n",
    "\n",
    "targets = list(zip(*test_m.nonzero()))"
   ]
  },
  {
   "cell_type": "code",
   "execution_count": 14,
   "metadata": {
    "collapsed": false
   },
   "outputs": [
    {
     "name": "stderr",
     "output_type": "stream",
     "text": [
      "100%|██████████| 77357/77357 [00:01<00:00, 65927.73it/s]\n"
     ]
    }
   ],
   "source": [
    "A = nx.to_scipy_sparse_matrix(g, nodelist=g.nodes(),\n",
    "                              weight='sign', format='csr')\n",
    "A = fill_diagonal(A)\n",
    "# assert (A.nnz - A.shape[0]) == len(targets)               "
   ]
  },
  {
   "cell_type": "code",
   "execution_count": 15,
   "metadata": {
    "collapsed": false
   },
   "outputs": [
    {
     "name": "stdout",
     "output_type": "stream",
     "text": [
      "(77357, 77357)\n"
     ]
    }
   ],
   "source": [
    "print(A.shape)"
   ]
  },
  {
   "cell_type": "code",
   "execution_count": 16,
   "metadata": {
    "collapsed": true
   },
   "outputs": [],
   "source": [
    "X, Y = alq_spark(A, k=k, sc=sc,\n",
    "                 lambda_=lambda_, iterations=max_iter,\n",
    "                 seed=random_seed)"
   ]
  },
  {
   "cell_type": "code",
   "execution_count": 18,
   "metadata": {
    "collapsed": false
   },
   "outputs": [
    {
     "name": "stdout",
     "output_type": "stream",
     "text": [
      "=> final accuracy 0.8512331100700763 (using symmetric graph)\n"
     ]
    }
   ],
   "source": [
    "test_m = test_m.todok()\n",
    "truth = set((i, j, test_m[i, j]) for i, j in targets)\n",
    "preds = predict_signs(X, Y, targets, sc)\n",
    "assert len(truth) == len(preds)\n",
    "assert set((i, j) for i, j, _ in preds) == set((i ,j) for i, j, _ in truth)\n",
    "/\n",
    "print('=> final accuracy {} (using symmetric graph)'.format(len(truth.intersection(preds)) / len(truth)))"
   ]
  }
 ],
 "metadata": {
  "kernelspec": {
   "display_name": "Python 3",
   "language": "python",
   "name": "python3"
  },
  "language_info": {
   "codemirror_mode": {
    "name": "ipython",
    "version": 3
   },
   "file_extension": ".py",
   "mimetype": "text/x-python",
   "name": "python",
   "nbconvert_exporter": "python",
   "pygments_lexer": "ipython3",
   "version": "3.5.2"
  }
 },
 "nbformat": 4,
 "nbformat_minor": 0
}
