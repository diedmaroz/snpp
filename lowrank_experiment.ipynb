{
 "cells": [
  {
   "cell_type": "code",
   "execution_count": 14,
   "metadata": {
    "collapsed": false
   },
   "outputs": [],
   "source": [
    "import networkx as nx\n",
    "import numpy as np\n",
    "from pyspark.sql import SparkSession\n",
    "\n",
    "from snpp.cores.lowrank import alq_spark\n",
    "from snpp.utils.matrix import split_train_test, load_sparse_csr\n",
    "from snpp.utils.signed_graph import fill_diagonal"
   ]
  },
  {
   "cell_type": "code",
   "execution_count": 11,
   "metadata": {
    "collapsed": true
   },
   "outputs": [],
   "source": [
    "dataset = 'slashdot'\n",
    "lambda_ = 0.1\n",
    "k = 40\n",
    "max_iter = 100\n",
    "random_seed = 123456"
   ]
  },
  {
   "cell_type": "code",
   "execution_count": 15,
   "metadata": {
    "collapsed": false
   },
   "outputs": [],
   "source": [
    "sc.setCheckpointDir('.checkpoint')  # stackoverflow errors\n",
    "    \n",
    "    \n",
    "m = load_sparse_csr('data/{}.npz'.format(dataset))\n",
    "train_m, test_m = split_train_test(m, [.9, .1])\n",
    "\n",
    "train_m = fill_diagonal(train_m)\n",
    "targets = list(zip(*test_m.nonzero()))\n",
    "\n"
   ]
  },
  {
   "cell_type": "code",
   "execution_count": 27,
   "metadata": {
    "collapsed": false
   },
   "outputs": [
    {
     "name": "stdout",
     "output_type": "stream",
     "text": [
      "(77357, 77357)\n",
      "(77357, 77357)\n",
      "0.0\n"
     ]
    },
    {
     "name": "stderr",
     "output_type": "stream",
     "text": [
      "100%|██████████| 77357/77357 [00:01<00:00, 57344.64it/s]\n"
     ]
    },
    {
     "name": "stdout",
     "output_type": "stream",
     "text": [
      "1.0\n"
     ]
    }
   ],
   "source": [
    "print(train_m.shape)\n",
    "print(test_m.shape)\n",
    "print(train_m[0, 0])\n",
    "\n",
    "train_m = fill_diagonal(train_m)\n",
    "print(train_m[0, 0])\n"
   ]
  },
  {
   "cell_type": "code",
   "execution_count": 40,
   "metadata": {
    "collapsed": false
   },
   "outputs": [],
   "source": [
    "X, Y = alq_spark(train_m, k=k, sc=sc,\n",
    "                 lambda_=lambda_, iterations=max_iter,\n",
    "                 seed=random_seed)\n",
    "\n"
   ]
  },
  {
   "cell_type": "code",
   "execution_count": 29,
   "metadata": {
    "collapsed": false
   },
   "outputs": [
    {
     "name": "stdout",
     "output_type": "stream",
     "text": [
      "(77357, 40)\n",
      "(77357, 77357)\n"
     ]
    }
   ],
   "source": [
    "print(X.shape)\n",
    "print(m.shape)"
   ]
  },
  {
   "cell_type": "code",
   "execution_count": 41,
   "metadata": {
    "collapsed": true
   },
   "outputs": [],
   "source": [
    "Xb, Yb = sc.broadcast(X), sc.broadcast(np.transpose(Y))\n",
    "preds = sc.parallelize(targets).map(\n",
    "    lambda e: (e[0], e[1], np.sign(np.dot(Xb.value[e[0]], Yb.value[e[1]])))\n",
    ").collect()"
   ]
  },
  {
   "cell_type": "code",
   "execution_count": 37,
   "metadata": {
    "collapsed": false
   },
   "outputs": [
    {
     "name": "stdout",
     "output_type": "stream",
     "text": [
      "[(0, 5, 1.0), (0, 26, 1.0), (1, 92, 1.0), (1, 112, 1.0), (1, 614, 1.0), (1, 621, 1.0), (1, 638, 1.0), (1, 650, 1.0), (1, 652, 1.0), (1, 684, 1.0), (4, 625, 1.0), (4, 705, 1.0), (4, 729, 1.0), (4, 745, 1.0), (4, 748, -1.0), (6, 753, 1.0), (6, 765, 1.0), (6, 771, 1.0), (8, 44, 1.0), (8, 54, 1.0), (8, 65, 1.0), (8, 85, -1.0), (8, 803, 1.0), (8, 816, 1.0), (8, 818, 1.0), (8, 826, 1.0), (8, 828, 1.0), (8, 837, 1.0), (8, 860, 1.0), (8, 864, 1.0), (8, 878, 1.0), (8, 886, 1.0), (8, 891, 1.0), (8, 896, 1.0), (8, 897, 1.0), (8, 912, 1.0), (8, 917, 1.0), (8, 939, 1.0), (8, 955, 1.0), (8, 958, 1.0), (8, 959, 1.0), (8, 961, 1.0), (8, 988, 1.0), (8, 990, 1.0), (8, 997, 1.0), (8, 1003, 1.0), (8, 1006, 1.0), (8, 1015, 1.0), (8, 1028, 1.0), (8, 1041, 1.0), (8, 1075, -1.0), (10, 1088, -1.0), (11, 1098, 1.0), (11, 1100, 1.0), (11, 1102, 1.0), (12, 1108, 1.0), (12, 1109, 1.0), (12, 1111, 1.0), (12, 1118, 1.0), (12, 1128, 1.0), (12, 1134, 1.0), (12, 1138, 1.0), (12, 1146, 1.0), (12, 1158, 1.0), (13, 746, 1.0), (14, 817, 1.0), (14, 914, 1.0), (14, 943, 1.0), (14, 988, 1.0), (14, 1084, 1.0), (14, 1164, 1.0), (14, 1166, 1.0), (14, 1177, 1.0), (14, 1178, 1.0), (14, 1179, 1.0), (14, 1215, 1.0), (14, 1219, -1.0), (14, 1221, 1.0), (14, 1239, 1.0), (14, 1242, 1.0), (14, 1244, 1.0), (14, 1262, 1.0), (14, 1281, 1.0), (15, 138, 1.0), (17, 44, 1.0), (17, 1306, 1.0), (17, 1309, 1.0), (18, 1315, 1.0), (19, 46, 1.0), (19, 1329, -1.0), (19, 1330, -1.0), (19, 1346, -1.0), (19, 1348, 1.0), (19, 1350, -1.0), (22, 85, -1.0), (22, 946, -1.0), (22, 2990, -1.0), (22, 4241, 1.0), (22, 8285, -1.0), (22, 8293, -1.0)]\n"
     ]
    }
   ],
   "source": [
    "print(preds[:100])"
   ]
  },
  {
   "cell_type": "code",
   "execution_count": 42,
   "metadata": {
    "collapsed": false
   },
   "outputs": [
    {
     "name": "stdout",
     "output_type": "stream",
     "text": [
      "=> final accuracy 0.8554918889620194\n"
     ]
    }
   ],
   "source": [
    "test_m = test_m.todok()\n",
    "truth = set((i, j, test_m[i, j]) for i, j in targets)\n",
    "assert len(truth) == len(preds)\n",
    "print('=> final accuracy {}'.format(len(truth.intersection(preds)) / len(truth)))"
   ]
  }
 ],
 "metadata": {
  "kernelspec": {
   "display_name": "Python 3",
   "language": "python",
   "name": "python3"
  },
  "language_info": {
   "codemirror_mode": {
    "name": "ipython",
    "version": 3
   },
   "file_extension": ".py",
   "mimetype": "text/x-python",
   "name": "python",
   "nbconvert_exporter": "python",
   "pygments_lexer": "ipython3",
   "version": "3.5.2"
  }
 },
 "nbformat": 4,
 "nbformat_minor": 0
}
